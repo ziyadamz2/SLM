{
  "nbformat": 4,
  "nbformat_minor": 0,
  "metadata": {
    "colab": {
      "provenance": [],
      "authorship_tag": "ABX9TyNerctXK5RuiE3l8jkgxwYa",
      "include_colab_link": true
    },
    "kernelspec": {
      "name": "python3",
      "display_name": "Python 3"
    },
    "language_info": {
      "name": "python"
    }
  },
  "cells": [
    {
      "cell_type": "markdown",
      "metadata": {
        "id": "view-in-github",
        "colab_type": "text"
      },
      "source": [
        "<a href=\"https://colab.research.google.com/github/ziyadamz2/SLM/blob/Dataset/Dataset.ipynb\" target=\"_parent\"><img src=\"https://colab.research.google.com/assets/colab-badge.svg\" alt=\"Open In Colab\"/></a>"
      ]
    },
    {
      "cell_type": "code",
      "execution_count": null,
      "metadata": {
        "id": "_CeDzS6IVlT8"
      },
      "outputs": [],
      "source": [
        "from datasets import load_dataset\n",
        "from transformers import AutoTokenizer\n",
        "import pandas as pd\n",
        "pd.set_option('display.max_colwidth', None)"
      ]
    },
    {
      "cell_type": "code",
      "source": [
        "kwargs = dict(split=\"train\", streaming=False)\n",
        "dataset = load_dataset(\"OpenLLM-France/Lucie-Training-Dataset\", \"Wikipedia-fr\", **kwargs)"
      ],
      "metadata": {
        "id": "IO_c1sxWVtr1"
      },
      "execution_count": null,
      "outputs": []
    },
    {
      "cell_type": "code",
      "source": [
        "dataset = dataset.to_pandas()"
      ],
      "metadata": {
        "id": "JMl_Y9zXVvhX"
      },
      "execution_count": null,
      "outputs": []
    },
    {
      "cell_type": "code",
      "source": [
        "print(dataset.columns)\n",
        "print(dataset.shape)"
      ],
      "metadata": {
        "id": "Aii-xjSBVxfP"
      },
      "execution_count": null,
      "outputs": []
    },
    {
      "cell_type": "code",
      "source": [
        "dataset=dataset.drop(columns={'source', 'id', 'language', 'date', 'author', 'url','extra','quality_signals'})"
      ],
      "metadata": {
        "id": "W5jYx2ueV0ET"
      },
      "execution_count": null,
      "outputs": []
    },
    {
      "cell_type": "code",
      "source": [
        "dataset.iloc[3]"
      ],
      "metadata": {
        "id": "1hgJ9100V1rj"
      },
      "execution_count": null,
      "outputs": []
    },
    {
      "cell_type": "code",
      "source": [
        "print('ok')"
      ],
      "metadata": {
        "id": "YHbXEkIXXFEf"
      },
      "execution_count": null,
      "outputs": []
    }
  ]
}