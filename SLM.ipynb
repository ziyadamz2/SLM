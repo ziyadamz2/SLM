{
  "cells": [
    {
      "cell_type": "markdown",
      "metadata": {
        "id": "view-in-github",
        "colab_type": "text"
      },
      "source": [
        "<a href=\"https://colab.research.google.com/github/ziyadamz2/SLM/blob/Dataset/SLM.ipynb\" target=\"_parent\"><img src=\"https://colab.research.google.com/assets/colab-badge.svg\" alt=\"Open In Colab\"/></a>"
      ]
    },
    {
      "cell_type": "code",
      "source": [
        "!pip install datasets\n",
        "!pip install transformers"
      ],
      "metadata": {
        "id": "jrQNy1U736WT"
      },
      "execution_count": null,
      "outputs": []
    },
    {
      "cell_type": "code",
      "execution_count": null,
      "metadata": {
        "id": "_CeDzS6IVlT8"
      },
      "outputs": [],
      "source": [
        "from datasets import load_dataset\n",
        "from transformers import AutoTokenizer\n",
        "import pandas as pd\n",
        "import re\n",
        "import json\n",
        "pd.set_option('display.max_colwidth', None)"
      ]
    },
    {
      "cell_type": "code",
      "execution_count": null,
      "metadata": {
        "id": "IO_c1sxWVtr1"
      },
      "outputs": [],
      "source": [
        "kwargs = dict(split=\"train\", streaming=False)\n",
        "dataset = load_dataset(\"OpenLLM-France/Lucie-Training-Dataset\", \"Wikipedia-fr\", **kwargs)"
      ]
    },
    {
      "cell_type": "code",
      "execution_count": null,
      "metadata": {
        "id": "JMl_Y9zXVvhX"
      },
      "outputs": [],
      "source": [
        "dataset = dataset.to_pandas()"
      ]
    },
    {
      "cell_type": "code",
      "execution_count": null,
      "metadata": {
        "id": "Aii-xjSBVxfP"
      },
      "outputs": [],
      "source": [
        "print(dataset.columns)\n",
        "print(dataset.shape)"
      ]
    },
    {
      "cell_type": "code",
      "execution_count": null,
      "metadata": {
        "id": "W5jYx2ueV0ET"
      },
      "outputs": [],
      "source": [
        "dataset=dataset.drop(columns={'source', 'id', 'language', 'date', 'author', 'url','extra','quality_signals'})"
      ]
    },
    {
      "cell_type": "markdown",
      "source": [
        "Pre-Processing"
      ],
      "metadata": {
        "id": "VetuwxZhspa7"
      }
    },
    {
      "cell_type": "code",
      "source": [
        "def nettoyer_texte(texte: str) -> str:\n",
        "    if not isinstance(texte, str):\n",
        "        return \"\"\n",
        "    # Supprimer les balises HTML\n",
        "    texte = re.sub(r\"<[^>]+>\", \"\", texte)\n",
        "    # Supprimer les balises Markdown (titres, listes, gras...)\n",
        "    texte = re.sub(r\"(^|\\n)#{1,6}\\s*\", \" \", texte)  # titres\n",
        "    texte = re.sub(r\"(\\*{1,2}|_{1,2})(.*?)\\1\", r\"\\2\", texte)  # italique/gras\n",
        "    texte = re.sub(r\"^\\s*[-*+]\\s+\", \" \", texte, flags=re.MULTILINE)  # listes\n",
        "    texte = re.sub(r\">\\s*\", \" \", texte)  # citations\n",
        "    # Remplacer \\n multiples par un espace\n",
        "    texte = re.sub(r\"\\n+\", \" \", texte)\n",
        "    # Supprimer espaces multiples\n",
        "    texte = re.sub(r\"\\s+\", \" \", texte).strip()\n",
        "    return texte\n",
        "\n",
        "dataset[\"text\"] = dataset[\"text\"].apply(nettoyer_texte)"
      ],
      "metadata": {
        "id": "F54fE354NhEP"
      },
      "execution_count": null,
      "outputs": []
    },
    {
      "cell_type": "code",
      "source": [
        "text_list = dataset['text'].tolist()\n",
        "with open(\"Dataset_text/data.txt\", \"w\", encoding=\"utf-8\") as f:\n",
        "    for line in text_list:\n",
        "        f.write(line + \"\\n\")\n",
        ""
      ],
      "metadata": {
        "id": "gkCnqzacstsR"
      },
      "execution_count": null,
      "outputs": []
    },
    {
      "cell_type": "markdown",
      "source": [
        "# Tokenizeur"
      ],
      "metadata": {
        "id": "Aw6uDSsBuYVu"
      }
    },
    {
      "cell_type": "markdown",
      "source": [
        "## Entrainement du tokeniseur pour qu'il s'adapte au corpus du texte"
      ],
      "metadata": {
        "id": "wzIMY13gv4nl"
      }
    },
    {
      "cell_type": "code",
      "source": [
        "from tokenizers import ByteLevelBPETokenizer\n",
        "\n",
        "tokenizer = ByteLevelBPETokenizer()\n",
        "\n",
        "tokenizer.train(\n",
        "    files=[\"Dataset_text/data.txt\"],\n",
        "    vocab_size=30000,\n",
        "    min_frequency=2,\n",
        "    special_tokens=[\n",
        "        \"<s>\",\n",
        "        \"<pad>\",\n",
        "        \"</s>\",\n",
        "        \"<unk>\",\n",
        "        \"<mask>\",\n",
        "    ],\n",
        ")\n",
        "\n",
        "tokenizer.save_model(\"tokenizer_bpe\")"
      ],
      "metadata": {
        "id": "Ox06dZhCuLct"
      },
      "execution_count": null,
      "outputs": []
    },
    {
      "cell_type": "code",
      "source": [
        "dataset['text'].head()"
      ],
      "metadata": {
        "id": "89i2aJNMazOR"
      },
      "execution_count": null,
      "outputs": []
    }
  ],
  "metadata": {
    "colab": {
      "provenance": [],
      "gpuType": "V28",
      "toc_visible": true,
      "authorship_tag": "ABX9TyOYmBFcS1Xr2ZLQb+N0K4BI",
      "include_colab_link": true
    },
    "kernelspec": {
      "display_name": "Python 3",
      "name": "python3"
    },
    "language_info": {
      "name": "python"
    },
    "accelerator": "TPU"
  },
  "nbformat": 4,
  "nbformat_minor": 0
}